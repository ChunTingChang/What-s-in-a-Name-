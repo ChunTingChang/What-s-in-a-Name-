{
 "cells": [
  {
   "cell_type": "markdown",
   "metadata": {
    "dc": {
     "key": "af3ab50ea7"
    },
    "deletable": false,
    "editable": false,
    "run_control": {
     "frozen": true
    },
    "tags": [
     "context"
    ]
   },
   "source": [
    "## 1. Introduction to Baby Names Data\n",
    "<blockquote>\n",
    "  <p>What’s in a name? That which we call a rose, By any other name would smell as sweet.</p>\n",
    "</blockquote>\n",
    "<p>In this project, we will explore a rich dataset of first names of babies born in the US, that spans a period of more than 100 years! This suprisingly simple dataset can help us uncover so many interesting stories, and that is exactly what we are going to be doing. </p>\n",
    "<p>Let us start by reading the data.</p>"
   ]
  },
  {
   "cell_type": "code",
   "execution_count": 49,
   "metadata": {
    "dc": {
     "key": "af3ab50ea7"
    },
    "tags": [
     "sample_code"
    ]
   },
   "outputs": [
    {
     "name": "stdout",
     "output_type": "stream",
     "text": [
      "        name sex  births  year\n",
      "0       Mary   F    7065  1880\n",
      "1       Anna   F    2604  1880\n",
      "2       Emma   F    2003  1880\n",
      "3  Elizabeth   F    1939  1880\n",
      "4     Minnie   F    1746  1880\n"
     ]
    }
   ],
   "source": [
    "# Import modules\n",
    "import pandas as pd\n",
    "\n",
    "# Read names into a dataframe: bnames\n",
    "bnames = pd.read_csv('datasets/names.csv.gz')\n",
    "print(bnames.head())\n"
   ]
  },
  {
   "cell_type": "markdown",
   "metadata": {
    "dc": {
     "key": "0bc85b342d"
    },
    "deletable": false,
    "editable": false,
    "run_control": {
     "frozen": true
    },
    "tags": [
     "context"
    ]
   },
   "source": [
    "## 2. Exploring Trends in Names\n",
    "<p>One of the first things we want to do is to understand naming trends. Let us start by figuring out the top five most popular male and female names for this decade (born 2011 and later). Do you want to make any guesses? Go on, be a sport!!</p>"
   ]
  },
  {
   "cell_type": "code",
   "execution_count": 77,
   "metadata": {
    "dc": {
     "key": "0bc85b342d"
    },
    "tags": [
     "sample_code"
    ]
   },
   "outputs": [
    {
     "name": "stdout",
     "output_type": "stream",
     "text": [
      "      sex      name  births\n",
      "52337   M      Zyus       5\n",
      "9304    F      Emma  121375\n",
      "26546   F    Sophia  117352\n",
      "22720   F    Olivia  111691\n",
      "11799   F  Isabella  103947\n",
      "4124    F       Ava   94507\n",
      "      sex      name  births\n",
      "9304    F      Emma  121375\n",
      "26546   F    Sophia  117352\n",
      "22720   F    Olivia  111691\n",
      "11799   F  Isabella  103947\n",
      "4124    F       Ava   94507\n",
      "52337   M      Zyus       5\n",
      "46014   M      Noah  110280\n",
      "44593   M     Mason  105104\n",
      "38946   M     Jacob  104722\n",
      "43724   M      Liam  103250\n",
      "51129   M   William   99144\n"
     ]
    }
   ],
   "source": [
    "# bnames_top5: A dataframe with top 5 popular male and female names for the decade\n",
    "\n",
    "# First Step : deal with the filter - year\n",
    "\n",
    "bnames_copy = bnames\n",
    "bnames_copy = bnames_copy[bnames_copy['year'] > 2010]\n",
    "\n",
    "del bnames_copy['year']\n",
    "\n",
    "# Second Step : sort value\n",
    "\n",
    "gb_df = bnames_copy.groupby(['sex','name'],as_index = False).sum()\n",
    "\n",
    "gb_df_srt = gb_df.sort_values(by = ['sex','births'],ascending = False)\n",
    "M_number = len(gb_df_srt.name[gb_df_srt['sex'] == 'M']) \n",
    "\n",
    "# Last Step : store the data for M & F and combine them together as bnames_top5\n",
    "\n",
    "M_df_5 = gb_df_srt.iloc[0:5 , : ]\n",
    "F_df_5 = gb_df_srt.iloc[M_number:M_number+5 , : ]\n",
    "\n",
    "bnames_top5 = F_df_5.append(M_df_5)\n",
    "bnames_top5 = bnames_top5.sort_values(by = 'sex', ascending = True)\n",
    "print(bnames_top5)"
   ]
  },
  {
   "cell_type": "markdown",
   "metadata": {
    "dc": {
     "key": "7cca0a6aff"
    },
    "deletable": false,
    "editable": false,
    "run_control": {
     "frozen": true
    },
    "tags": [
     "context"
    ]
   },
   "source": [
    "## 3. Proportion of Births\n",
    "<p>While the number of births is a useful metric, making comparisons across years becomes difficult, as one would have to control for population effects. One way around this is to normalize the number of births by the total number of births in that year.</p>"
   ]
  },
  {
   "cell_type": "code",
   "execution_count": 51,
   "metadata": {
    "dc": {
     "key": "7cca0a6aff"
    },
    "tags": [
     "sample_code"
    ]
   },
   "outputs": [
    {
     "name": "stdout",
     "output_type": "stream",
     "text": [
      "        name sex  births  year  prop_births\n",
      "0       Mary   F    7065  1880     0.035065\n",
      "1       Anna   F    2604  1880     0.012924\n",
      "2       Emma   F    2003  1880     0.009941\n",
      "3  Elizabeth   F    1939  1880     0.009624\n",
      "4     Minnie   F    1746  1880     0.008666 \n",
      "            name sex  births  year  prop_births\n",
      "1891889  Zolton   M       5  2016     0.000001\n",
      "1891890  Zurich   M       5  2016     0.000001\n",
      "1891891  Zyahir   M       5  2016     0.000001\n",
      "1891892    Zyel   M       5  2016     0.000001\n",
      "1891893   Zylyn   M       5  2016     0.000001\n"
     ]
    }
   ],
   "source": [
    "# Compute the proportion of births by year and add it as a new column\n",
    "\n",
    "# First Step : Do the Groupby to sum up the births by year\n",
    "\n",
    "bnames2 = bnames.copy() # 1891893 rows\n",
    "\n",
    "bnames2_bsum = bnames2.groupby('year',as_index = False)['births'].sum()\n",
    "bnames2['prop_births'] = 0\n",
    "bnames2['mbir_sum'] = 0\n",
    "\n",
    "# Second Step : add sum of births into the DF as a new column and count the propotion\n",
    "\n",
    "year_list = bnames2_bsum.year.values\n",
    "for i in year_list:\n",
    "    bir_sum = int(bnames2_bsum['births'][bnames2_bsum.year == i].values)\n",
    "    bnames2.loc[bnames['year'] == i, 'mbir_sum'] = bir_sum # Note\n",
    "    \n",
    "bnames2['prop_births'] = bnames2['births'] / bnames2['mbir_sum']\n",
    "\n",
    "# Last Step : delete the sum column and print the result\n",
    "\n",
    "del bnames2['mbir_sum']\n",
    "print(bnames2.head(5), '\\n' ,bnames2.tail(5))\n"
   ]
  },
  {
   "cell_type": "markdown",
   "metadata": {
    "dc": {
     "key": "ec03f98f40"
    },
    "deletable": false,
    "editable": false,
    "run_control": {
     "frozen": true
    },
    "tags": [
     "context"
    ]
   },
   "source": [
    "## 4. Popularity of Names\n",
    "<p>Now that we have the proportion of births, let us plot the popularity of a name through the years. How about plotting the popularity of the female names <code>Elizabeth</code>, and <code>Deneen</code>, and inspecting the underlying trends for any interesting patterns!</p>"
   ]
  },
  {
   "cell_type": "code",
   "execution_count": 52,
   "metadata": {
    "dc": {
     "key": "ec03f98f40"
    },
    "tags": [
     "sample_code"
    ]
   },
   "outputs": [
    {
     "data": {
      "image/png": "[encoded data removed]",
      "text/plain": [
       "<matplotlib.figure.Figure at 0x1379b26d8>"
      ]
     },
     "metadata": {},
     "output_type": "display_data"
    },
    {
     "data": {
      "image/png": "[encoded data removed]",
      "text/plain": [
       "<matplotlib.figure.Figure at 0x118276ac8>"
      ]
     },
     "metadata": {},
     "output_type": "display_data"
    }
   ],
   "source": [
    "# First Step : Set up matplotlib for plotting in the notebook.\n",
    "\n",
    "%matplotlib inline\n",
    "import matplotlib.pyplot as plt\n",
    "\n",
    "# Second Step : define new function 'plot_trends' to show trends of names\n",
    "\n",
    "def plot_trends(name, sex):\n",
    "    DF_a = bnames.loc[bnames['name'] == name]\n",
    "    DF_b = DF_a.loc[DF_a['sex'] == sex]\n",
    "    plt.plot(DF_b['year'],DF_b['births'])\n",
    "    plt.legend(loc = 'upper right')\n",
    "    plt.title('trends of '+name)\n",
    "    plt.grid()\n",
    "    plt.ylabel('number of births')\n",
    "    plt.xlabel('year')\n",
    "    return plt.show()\n",
    "\n",
    "# Last Step : Plot trends for Elizabeth and Deneen and give the peak\n",
    "\n",
    "plot_trends('Elizabeth', 'F')\n",
    "plot_trends('Deneen', 'F')\n",
    "\n",
    "num_peaks_elizabeth = 3\n",
    "num_peaks_deneen = 1"
   ]
  },
  {
   "cell_type": "markdown",
   "metadata": {
    "dc": {
     "key": "b56a9fcef5"
    },
    "deletable": false,
    "editable": false,
    "run_control": {
     "frozen": true
    },
    "tags": [
     "context"
    ]
   },
   "source": [
    "## 5. Trendy vs. Stable Names\n",
    "<p>Based on the plots we created earlier, we can see that <strong>Elizabeth</strong> is a fairly stable name, while <strong>Deneen</strong> is not. An interesting question to ask would be what are the top 5 stable and top 5 trendiest names. A stable name is one whose proportion across years does not vary drastically, while a trendy name is one whose popularity peaks for a short period and then dies down. </p>\n",
    "<p>There are many ways to measure trendiness. A simple measure would be to look at the maximum proportion of births for a name, normalized by the sume of proportion of births across years. For example, if the name <code>Joe</code> had the proportions <code>0.1, 0.2, 0.1, 0.1</code>, then the trendiness measure would be <code>0.2/(0.1 + 0.2 + 0.1 + 0.1)</code> which equals <code>0.5</code>.</p>\n",
    "<p>Let us use this idea to figure out the top 10 trendy names in this data set, with at least a 1000 births.</p>"
   ]
  },
  {
   "cell_type": "code",
   "execution_count": 53,
   "metadata": {
    "dc": {
     "key": "b56a9fcef5"
    },
    "tags": [
     "sample_code"
    ]
   },
   "outputs": [
    {
     "name": "stdout",
     "output_type": "stream",
     "text": [
      "       name sex  total   max  trendiness\n",
      "0  Christop   M   1082  1082    1.000000\n",
      "1   Royalty   F   1057   581    0.549669\n",
      "2     Kizzy   F   2325  1116    0.480000\n",
      "3    Aitana   F   1203   564    0.468828\n",
      "4    Deneen   F   3602  1604    0.445308\n",
      "5    Moesha   F   1067   426    0.399250\n",
      "6    Marely   F   2527  1004    0.397309\n",
      "7     Kanye   M   1304   507    0.388804\n",
      "8  Tennille   F   2172   769    0.354052\n",
      "9   Kadijah   F   1411   486    0.344437\n"
     ]
    }
   ],
   "source": [
    "# First Step : Get the max and total value\n",
    "\n",
    "b_m = bnames.groupby(['sex','name'],as_index = False)['births'].max().rename(columns={'births':'max'})\n",
    "b_s = bnames.groupby(['sex','name'],as_index = False)['births'].sum().rename(columns={'births':'total'})\n",
    "\n",
    "# Second Step : merge the dataframe and count the % of trendiness\n",
    "\n",
    "top10_trendy_names = pd.merge(b_m, b_s, how = 'left')\n",
    "\n",
    "# top10_trendy_names | A Data Frame of the top 10 most trendy names\n",
    "\n",
    "top10_trendy_names = top10_trendy_names[top10_trendy_names.total >= 1000]\n",
    "top10_trendy_names['trendiness'] = top10_trendy_names['max'] / top10_trendy_names['total']\n",
    "\n",
    "# Last Step : put the columns in the right order\n",
    "\n",
    "top10_trendy_names = top10_trendy_names.sort_values(by = ['trendiness','max','name'], ascending = [False ,False, True])\n",
    "top10_trendy_names = top10_trendy_names[:10]\n",
    "cols = ['name', 'sex', 'total', 'max', 'trendiness']\n",
    "top10_trendy_names = top10_trendy_names[cols]\n",
    "top10_trendy_names = top10_trendy_names.reset_index(drop=True)\n",
    "\n",
    "print(top10_trendy_names.head(10))"
   ]
  },
  {
   "cell_type": "markdown",
   "metadata": {
    "dc": {
     "key": "8beea38403"
    },
    "deletable": false,
    "editable": false,
    "run_control": {
     "frozen": true
    },
    "tags": [
     "context"
    ]
   },
   "source": [
    "## 6. Bring in Mortality Data\n",
    "<p>So, what more is in a name? Well, with some further work, it is possible to predict the age of a person based on the name (Whoa! Really????). For this, we will need actuarial data that can tell us the chances that someone is still alive, based on when they were born. Fortunately, the <a href=\"https://www.ssa.gov/\">SSA</a> provides detailed <a href=\"https://www.ssa.gov/oact/STATS/table4c6.html\">actuarial life tables</a> by birth cohorts.</p>\n",
    "<table>\n",
    "<thead>\n",
    "<tr>\n",
    "<th style=\"text-align:right;\">year</th>\n",
    "<th style=\"text-align:right;\">age</th>\n",
    "<th style=\"text-align:right;\">qx</th>\n",
    "<th style=\"text-align:right;\">lx</th>\n",
    "<th style=\"text-align:right;\">dx</th>\n",
    "<th style=\"text-align:right;\">Lx</th>\n",
    "<th style=\"text-align:right;\">Tx</th>\n",
    "<th style=\"text-align:right;\">ex</th>\n",
    "<th style=\"text-align:left;\">sex</th>\n",
    "</tr>\n",
    "</thead>\n",
    "<tbody>\n",
    "<tr>\n",
    "<td style=\"text-align:right;\">1910</td>\n",
    "<td style=\"text-align:right;\">39</td>\n",
    "<td style=\"text-align:right;\">0.00283</td>\n",
    "<td style=\"text-align:right;\">78275</td>\n",
    "<td style=\"text-align:right;\">222</td>\n",
    "<td style=\"text-align:right;\">78164</td>\n",
    "<td style=\"text-align:right;\">3129636</td>\n",
    "<td style=\"text-align:right;\">39.98</td>\n",
    "<td style=\"text-align:left;\">F</td>\n",
    "</tr>\n",
    "<tr>\n",
    "<td style=\"text-align:right;\">1910</td>\n",
    "<td style=\"text-align:right;\">40</td>\n",
    "<td style=\"text-align:right;\">0.00297</td>\n",
    "<td style=\"text-align:right;\">78053</td>\n",
    "<td style=\"text-align:right;\">232</td>\n",
    "<td style=\"text-align:right;\">77937</td>\n",
    "<td style=\"text-align:right;\">3051472</td>\n",
    "<td style=\"text-align:right;\">39.09</td>\n",
    "<td style=\"text-align:left;\">F</td>\n",
    "</tr>\n",
    "<tr>\n",
    "<td style=\"text-align:right;\">1910</td>\n",
    "<td style=\"text-align:right;\">41</td>\n",
    "<td style=\"text-align:right;\">0.00318</td>\n",
    "<td style=\"text-align:right;\">77821</td>\n",
    "<td style=\"text-align:right;\">248</td>\n",
    "<td style=\"text-align:right;\">77697</td>\n",
    "<td style=\"text-align:right;\">2973535</td>\n",
    "<td style=\"text-align:right;\">38.21</td>\n",
    "<td style=\"text-align:left;\">F</td>\n",
    "</tr>\n",
    "<tr>\n",
    "<td style=\"text-align:right;\">1910</td>\n",
    "<td style=\"text-align:right;\">42</td>\n",
    "<td style=\"text-align:right;\">0.00332</td>\n",
    "<td style=\"text-align:right;\">77573</td>\n",
    "<td style=\"text-align:right;\">257</td>\n",
    "<td style=\"text-align:right;\">77444</td>\n",
    "<td style=\"text-align:right;\">2895838</td>\n",
    "<td style=\"text-align:right;\">37.33</td>\n",
    "<td style=\"text-align:left;\">F</td>\n",
    "</tr>\n",
    "<tr>\n",
    "<td style=\"text-align:right;\">1910</td>\n",
    "<td style=\"text-align:right;\">43</td>\n",
    "<td style=\"text-align:right;\">0.00346</td>\n",
    "<td style=\"text-align:right;\">77316</td>\n",
    "<td style=\"text-align:right;\">268</td>\n",
    "<td style=\"text-align:right;\">77182</td>\n",
    "<td style=\"text-align:right;\">2818394</td>\n",
    "<td style=\"text-align:right;\">36.45</td>\n",
    "<td style=\"text-align:left;\">F</td>\n",
    "</tr>\n",
    "<tr>\n",
    "<td style=\"text-align:right;\">1910</td>\n",
    "<td style=\"text-align:right;\">44</td>\n",
    "<td style=\"text-align:right;\">0.00351</td>\n",
    "<td style=\"text-align:right;\">77048</td>\n",
    "<td style=\"text-align:right;\">270</td>\n",
    "<td style=\"text-align:right;\">76913</td>\n",
    "<td style=\"text-align:right;\">2741212</td>\n",
    "<td style=\"text-align:right;\">35.58</td>\n",
    "<td style=\"text-align:left;\">F</td>\n",
    "</tr>\n",
    "</tbody>\n",
    "</table>\n",
    "<p>You can read the <a href=\"https://www.ssa.gov/oact/NOTES/as120/LifeTables_Body.html\">documentation for the lifetables</a> to understand what the different columns mean. The key column of interest to us is <code>lx</code>, which provides the number of people born in a <code>year</code> who live upto a given <code>age</code>. The probability of being alive can be derived as <code>lx</code> by 100,000. </p>\n",
    "<p>Given that 2016 is the latest year in the baby names dataset, we are interested only in a subset of this data, that will help us answer the question, \"What percentage of people born in Year X are still alive in 2016?\" </p>\n",
    "<p>Let us use this data and plot it to get a sense of the mortality distribution!</p>"
   ]
  },
  {
   "cell_type": "code",
   "execution_count": 54,
   "metadata": {
    "dc": {
     "key": "8beea38403"
    },
    "tags": [
     "sample_code"
    ]
   },
   "outputs": [
    {
     "data": {
      "image/png": "[encoded data removed]",
      "text/plain": [
       "<matplotlib.figure.Figure at 0x11a1bdcf8>"
      ]
     },
     "metadata": {},
     "output_type": "display_data"
    }
   ],
   "source": [
    "# First Step : Read lifetables from datasets/lifetables.csv\n",
    "lifetables = pd.read_csv('datasets/lifetables.csv')\n",
    "\n",
    "# Second Step : Extract subset relevant to those alive in 2016\n",
    "\n",
    "lifetables['criteria'] = lifetables['year'] + lifetables['age']\n",
    "lifetables_2016 = lifetables[lifetables.criteria == 2016]\n",
    "del lifetables_2016['criteria']\n",
    "lifetables_2016 = lifetables_2016.sort_values(by=['year','age'], ascending = [True, False])\n",
    "\n",
    "# Last Step : Plot the mortality distribution: year vs. lx\n",
    "\n",
    "lifetables_2016.plot(x = 'year', y = 'lx')\n",
    "plt.show()"
   ]
  },
  {
   "cell_type": "markdown",
   "metadata": {
    "dc": {
     "key": "19e120d2df"
    },
    "deletable": false,
    "editable": false,
    "run_control": {
     "frozen": true
    },
    "tags": [
     "context"
    ]
   },
   "source": [
    "## 7. Smoothen the Curve!\n",
    "<p>We are almost there. There is just one small glitch. The cohort life tables are provided only for every decade. In order to figure out the distribution of people alive, we need the probabilities for every year. One way to fill up the gaps in the data is to use some kind of interpolation. Let us keep things simple and use linear interpolation to fill out the gaps in values of <code>lx</code>, between the years <code>1900</code> and <code>2016</code>.</p>"
   ]
  },
  {
   "cell_type": "code",
   "execution_count": 55,
   "metadata": {
    "dc": {
     "key": "19e120d2df"
    },
    "tags": [
     "sample_code"
    ]
   },
   "outputs": [
    {
     "name": "stdout",
     "output_type": "stream",
     "text": [
      "     lx sex  year\n",
      "0   0.0   F  1900\n",
      "1   6.1   F  1901\n",
      "2  12.2   F  1902\n",
      "3  18.3   F  1903\n",
      "4  24.4   F  1904\n"
     ]
    }
   ],
   "source": [
    "# First Step : create a list contains the number of year\n",
    "\n",
    "year_list = list(range(1900,2016))\n",
    "\n",
    "# Second Step : create F & M dataframes with required data respectively\n",
    "\n",
    "lifetable_n_2016_F = lifetables_2016[['year','lx']][lifetables_2016.sex == 'F'] #.sort_values(by =['year','lx'],ascending = [True, True])\n",
    "lifetable_n_2016_M = lifetables_2016[['year','lx']][lifetables_2016.sex == 'M'] #.sort_values(by =['year','lx'],ascending = [True, True])\n",
    "\n",
    "# Third Step : interpolate and reindex\n",
    "\n",
    "lifetable_n_2016_F = lifetable_n_2016_F.set_index('year').reindex(year_list).interpolate()\n",
    "lifetable_n_2016_F['sex'] = 'F'\n",
    "lifetable_n_2016_F['year'] = lifetable_n_2016_F.index\n",
    "\n",
    "lifetable_n_2016_M = lifetable_n_2016_M.set_index('year').reindex(year_list).interpolate()\n",
    "lifetable_n_2016_M['sex'] = 'M'\n",
    "lifetable_n_2016_M['year'] = lifetable_n_2016_M.index\n",
    "\n",
    "# Last Step : combine 2 dataframes together\n",
    "\n",
    "lifetable_2016_s = lifetable_n_2016_F.append(lifetable_n_2016_M, ignore_index = True)\n",
    "print(lifetable_2016_s.head())"
   ]
  },
  {
   "cell_type": "markdown",
   "metadata": {
    "dc": {
     "key": "8edb689558"
    },
    "deletable": false,
    "editable": false,
    "run_control": {
     "frozen": true
    },
    "tags": [
     "context"
    ]
   },
   "source": [
    "## 8. Distribution of People Alive by Name\n",
    "<p>Now that we have all the required data, we need a few helper functions to help us with our analysis. </p>\n",
    "<p>The first function we will write is <code>get_data</code>,which takes <code>name</code> and <code>sex</code> as inputs and returns a data frame with the distribution of number of births and number of people alive by year.</p>\n",
    "<p>The second function is <code>plot_name</code> which accepts the same arguments as <code>get_data</code>, but returns a line plot of the distribution of number of births, overlaid by an area plot of the number alive by year.</p>\n",
    "<p>Using these functions, we will plot the distribution of births for boys named <strong>Joseph</strong> and girls named <strong>Brittany</strong>.</p>"
   ]
  },
  {
   "cell_type": "code",
   "execution_count": 56,
   "metadata": {
    "dc": {
     "key": "8edb689558"
    },
    "tags": [
     "sample_code"
    ]
   },
   "outputs": [
    {
     "name": "stderr",
     "output_type": "stream",
     "text": [
      "/Users/GT/anaconda/lib/python3.6/site-packages/ipykernel_launcher.py:9: UserWarning: Boolean Series key will be reindexed to match DataFrame index.\n",
      "  if __name__ == '__main__':\n"
     ]
    },
    {
     "name": "stdout",
     "output_type": "stream",
     "text": [
      "         name sex  births  year   lx   n_alive\n",
      "54495  Joseph   M    3714  1900  0.0  0.000000\n",
      "57943  Joseph   M    2766  1901  0.7  0.019362\n",
      "61196  Joseph   M    3098  1902  1.4  0.043372\n",
      "64598  Joseph   M    3121  1903  2.1  0.065541\n",
      "68070  Joseph   M    3291  1904  2.8  0.092148\n"
     ]
    },
    {
     "name": "stderr",
     "output_type": "stream",
     "text": [
      "/Users/GT/anaconda/lib/python3.6/site-packages/ipykernel_launcher.py:24: UserWarning: Boolean Series key will be reindexed to match DataFrame index.\n"
     ]
    },
    {
     "data": {
      "image/png": "[encoded data removed]",
      "text/plain": [
       "<matplotlib.figure.Figure at 0x119be0f60>"
      ]
     },
     "metadata": {},
     "output_type": "display_data"
    },
    {
     "name": "stdout",
     "output_type": "stream",
     "text": [
      "None\n"
     ]
    }
   ],
   "source": [
    "# First Step : Define get_data: takes name and sex as inputs and returns a data frame with the distribution of number of births and number of people alive by year\n",
    "\n",
    "def get_data(name, sex):\n",
    "    # lifetable_2016_s + bnames\n",
    "    df = pd.merge(bnames, lifetable_2016_s, how = 'outer')\n",
    "    # n_alive = lx * births / 100000\n",
    "    df['n_alive'] = df['lx'] * df['births'] / 100000\n",
    "    df_n = df[df.name == name]\n",
    "    df_ns = df_n[df.sex == sex]\n",
    "    df_ns = df_ns.dropna(how = 'any')\n",
    "\n",
    "    return df_ns\n",
    "\n",
    "print(get_data('Joseph', 'M').head(5))\n",
    "\n",
    "# Second Step : Define plot_data: accepts the same arguments as get_data, but returns a line plot of the distribution of number of births, overlaid by an area plot of the number alive by year.\n",
    "\n",
    "def plot_data(name, sex):\n",
    "    # lifetable_2016_s + bnames\n",
    "    df = pd.merge(bnames, lifetable_2016_s, how = 'outer')\n",
    "    # n_alive = lx * births / 100000\n",
    "    df['n_alive'] = df['lx'] * df['births'] / 100000\n",
    "    df_n = df[df.name == name]\n",
    "    df_ns = df_n[df.sex == sex]\n",
    "    df_ns = df_ns.dropna(how = 'any')\n",
    "    _ = df_ns.plot('year', ['n_alive', 'births'])\n",
    "    _ = plt.fill_between(df_ns.year, df_ns.n_alive, color = 'orange',alpha=0.5)\n",
    "    _ = plt.legend(loc = 'upper right')\n",
    "    return plt.show()\n",
    "    \n",
    "# Last Step : Plot the distribution of births and number alive for Joseph and Brittany\n",
    "\n",
    "print(plot_data('Brittany', 'F'))"
   ]
  },
  {
   "cell_type": "markdown",
   "metadata": {
    "dc": {
     "key": "76f2d745c2"
    },
    "deletable": false,
    "editable": false,
    "run_control": {
     "frozen": true
    },
    "tags": [
     "context"
    ]
   },
   "source": [
    "## 9. Estimate Age\n",
    "<p>In this section, we want to figure out the probability that a person with a certain name is alive, as well as the quantiles of their age distribution. In particular, we will estimate the age of a female named <strong>Gertrude</strong>. Any guesses on how old a person with this name is? How about a male named <strong>William</strong>?</p>"
   ]
  },
  {
   "cell_type": "code",
   "execution_count": 57,
   "metadata": {
    "dc": {
     "key": "76f2d745c2"
    },
    "tags": [
     "sample_code"
    ]
   },
   "outputs": [
    {
     "name": "stderr",
     "output_type": "stream",
     "text": [
      "/Users/GT/anaconda/lib/python3.6/site-packages/ipykernel_launcher.py:9: UserWarning: Boolean Series key will be reindexed to match DataFrame index.\n",
      "  if __name__ == '__main__':\n"
     ]
    },
    {
     "name": "stdout",
     "output_type": "stream",
     "text": [
      "name       Gertrude\n",
      "p_alive       0.187\n",
      "q25              70\n",
      "q50              80\n",
      "q75              89\n",
      "sex               F\n",
      "dtype: object\n",
      "name       William\n",
      "p_alive      0.613\n",
      "q25             31\n",
      "q50             52\n",
      "q75             66\n",
      "sex              M\n",
      "dtype: object\n"
     ]
    }
   ],
   "source": [
    "# Import modules\n",
    "from wquantiles import quantile\n",
    "\n",
    "# Function to estimate age quantiles\n",
    "def estimate_age(name, sex):\n",
    "    data = get_data(name, sex)\n",
    "    q = [0.25, 0.5, 0.75]\n",
    "    quantiles = [2016 - int(quantile(data.year, data.n_alive, i)) for i in q]\n",
    "    q75, q50, q25 = quantiles\n",
    "    p_alive = round(data.n_alive.sum() / data.births.sum(),3)\n",
    "    outp = {'name' : name, 'sex' : sex, 'q25' : q25, 'q50' : q50, 'q75' : q75, 'p_alive':p_alive}\n",
    "    outp = pd.Series(outp)\n",
    "    return outp\n",
    "\n",
    "# Estimate the age of Gertrude\n",
    "print(estimate_age('Gertrude', 'F'))\n",
    "\n",
    "# Estimate the age of William\n",
    "print(estimate_age('William', 'M'))"
   ]
  },
  {
   "cell_type": "markdown",
   "metadata": {
    "dc": {
     "key": "9f5f6fd409"
    },
    "deletable": false,
    "editable": false,
    "run_control": {
     "frozen": true
    },
    "tags": [
     "context"
    ]
   },
   "source": [
    "## 10. Median Age of Top 10 Female Names\n",
    "<p>In the previous section, we estimated the age of a female named Gertrude. Let's go one step further this time, and compute the 25th, 50th and 75th percentiles of age, and the probability of being alive for the top 10 most common female names of all time. This should give us some interesting insights on how these names stack up in terms of median ages!</p>"
   ]
  },
  {
   "cell_type": "code",
   "execution_count": 80,
   "metadata": {
    "dc": {
     "key": "9f5f6fd409"
    },
    "tags": [
     "sample_code"
    ]
   },
   "outputs": [
    {
     "name": "stderr",
     "output_type": "stream",
     "text": [
      "/Users/GT/anaconda/lib/python3.6/site-packages/ipykernel_launcher.py:9: UserWarning: Boolean Series key will be reindexed to match DataFrame index.\n",
      "  if __name__ == '__main__':\n"
     ]
    },
    {
     "name": "stdout",
     "output_type": "stream",
     "text": [
      "        name  p_alive  q25  q50  q75 sex\n",
      "0     Sophia    0.954    5    8   14   F\n",
      "1   Isabella    0.974    5    8   12   F\n",
      "2        Ava    0.971    4    8   11   F\n",
      "3        Mia    0.990    4    9   13   F\n",
      "4       Emma    0.768    6   12   19   F\n",
      "5     Olivia    0.956    6   12   19   F\n",
      "6    Abigail    0.987    7   13   19   F\n",
      "7    Madison    0.992    8   13   17   F\n",
      "8      Emily    0.926   12   20   29   F\n",
      "9  Elizabeth    0.745   23   38   58   F\n"
     ]
    }
   ],
   "source": [
    "# Purpose : Create median_ages: DataFrame with Top 10 Female names, age percentiles and probability of being alive\n",
    "\n",
    "# First Step : get a list of top 10 Female names of all time (F_df_10)\n",
    "\n",
    "F_df_10 = gb_df_srt.iloc[M_number:M_number+10 , : ]\n",
    "\n",
    "# Second Step : use function 'estimate_age' to get the correct output (median_ages)\n",
    "\n",
    "median_ages = [estimate_age(x, 'F') for x in F_df_10.name]\n",
    "median_ages = pd.DataFrame(median_ages).sort_values(by = 'q50').reset_index(drop = True)\n",
    "\n",
    "print(median_ages)"
   ]
  }
 ],
 "metadata": {
  "kernelspec": {
   "display_name": "Python 3",
   "language": "python",
   "name": "python3"
  },
  "language_info": {
   "codemirror_mode": {
    "name": "ipython",
    "version": 3
   },
   "file_extension": ".py",
   "mimetype": "text/x-python",
   "name": "python",
   "nbconvert_exporter": "python",
   "pygments_lexer": "ipython3",
   "version": "3.6.1"
  }
 },
 "nbformat": 4,
 "nbformat_minor": 2
}
